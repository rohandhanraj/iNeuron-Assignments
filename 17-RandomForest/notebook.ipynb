{
 "cells": [
  {
   "cell_type": "markdown",
   "metadata": {},
   "source": []
  },
  {
   "cell_type": "code",
   "execution_count": null,
   "metadata": {},
   "outputs": [],
   "source": [
    "import numpy as np\n",
    "import pandas as pd\n",
    "import matplotlib.pyplot as plt\n",
    "\n",
    "import statsmodels.api as sm\n",
    "\n",
    "from sklearn.preprocessing import StandardScaler, MinMaxScaler\n",
    "from sklearn.model_selection import train_test_split\n",
    "from sklearn.linear_model import LinearRegression\n",
    "from sklearn.metrics import mean_squared_error\n",
    "\n",
    "from pandas_profiling import ProfileReport\n",
    "\n",
    "import warnings\n",
    "warnings.filterwarnings('ignore')"
   ]
  },
  {
   "cell_type": "code",
   "execution_count": null,
   "metadata": {},
   "outputs": [],
   "source": [
    "from sklearn.datasets import load_boston"
   ]
  },
  {
   "cell_type": "code",
   "execution_count": null,
   "metadata": {},
   "outputs": [],
   "source": [
    "boston = load_boston()\n",
    "bos = pd.DataFrame(boston.data)\n",
    "bos.columns = boston.feature_names\n",
    "bos['MDEV'] = boston.target\n",
    "bos"
   ]
  },
  {
   "cell_type": "markdown",
   "metadata": {},
   "source": [
    "# Dataset Contents\n",
    "Each record in the database describes a Boston suburb or town. The data was drawn from the Boston Standard Metropolitan Statistical Area (SMSA) in 1970. The attributes are deﬁned as follows (taken from the UCI Machine Learning Repository1):\n",
    "\n",
    "* **CRIM**: per capita crime rate by town\n",
    "* **ZN**: proportion of residential land zoned for lots over 25,000 sq.ft.\n",
    "* **INDUS**: proportion of non-retail business acres per town\n",
    "* **CHAS**: Charles River dummy variable (= 1 if tract bounds river; 0 otherwise)\n",
    "* **NOX**: nitric oxides concentration (parts per 10 million)\n",
    "* **RM**: average number of rooms per dwelling\n",
    "* **AGE**: proportion of owner-occupied units built prior to 1940\n",
    "* **DIS**: weighted distances to ﬁve Boston employment centers\n",
    "* **RAD**: index of accessibility to radial highways\n",
    "* **TAX**: full-value property-tax rate per $10,000\n",
    "* **PTRATIO**: pupil-teacher ratio by town 12.\n",
    "* **B**: 1000(Bk−0.63)2 where Bk is the proportion of blacks by town 13.\n",
    "* **LSTAT**: % lower status of the population\n",
    "* **MEDV**: Median value of owner-occupied homes in $1000s  \n",
    "We can see that the input attributes have a mixture of units."
   ]
  },
  {
   "cell_type": "code",
   "execution_count": null,
   "metadata": {},
   "outputs": [],
   "source": []
  }
 ],
 "metadata": {
  "interpreter": {
   "hash": "f95caa143f5f34cde342df776f8cec6ba146193dbf43735a686a7ecc98d5dd66"
  },
  "kernelspec": {
   "display_name": "Python 3.9.7 64-bit ('base': conda)",
   "language": "python",
   "name": "python3"
  },
  "language_info": {
   "name": "python",
   "version": "3.9.7"
  },
  "orig_nbformat": 4
 },
 "nbformat": 4,
 "nbformat_minor": 2
}
