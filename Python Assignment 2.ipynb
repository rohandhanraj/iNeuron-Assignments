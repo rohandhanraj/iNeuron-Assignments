{
 "cells": [
  {
   "cell_type": "markdown",
   "id": "a99a8e84",
   "metadata": {},
   "source": [
    "#### 1. Create the below pattern using nested for loop in Python."
   ]
  },
  {
   "cell_type": "raw",
   "id": "eefe33f5",
   "metadata": {},
   "source": [
    "*\n",
    "* *\n",
    "* * *\n",
    "* * * *\n",
    "* * * * *\n",
    "* * * *\n",
    "* * *\n",
    "* *\n",
    "*"
   ]
  },
  {
   "cell_type": "code",
   "execution_count": 2,
   "id": "53ff6334",
   "metadata": {},
   "outputs": [
    {
     "name": "stdout",
     "output_type": "stream",
     "text": [
      "*         \n",
      "* *       \n",
      "* * *     \n",
      "* * * *   \n",
      "* * * * * \n",
      "* * * *   \n",
      "* * *     \n",
      "* *       \n",
      "*         \n"
     ]
    }
   ],
   "source": [
    "for i in range(1,10):\n",
    "    print(('* '*i).ljust(10,' ')) if i<6 else print(('* '*(10-i)).ljust(10,' '))\n"
   ]
  },
  {
   "cell_type": "markdown",
   "id": "88fe560b",
   "metadata": {},
   "source": [
    "### After copying text fom the assignment page it looks like above figure but in the page itself it looks as if stretched vertically"
   ]
  },
  {
   "cell_type": "code",
   "execution_count": 4,
   "id": "42e7af8d",
   "metadata": {},
   "outputs": [
    {
     "name": "stdout",
     "output_type": "stream",
     "text": [
      " *         \n",
      "\n",
      " *  *      \n",
      "\n",
      " *  *  *   \n",
      "\n",
      " *  *  *  *  \n",
      "\n",
      " *  *  *  *  *  \n",
      "\n",
      " *  *  *  *  \n",
      "\n",
      " *  *  *   \n",
      "\n",
      " *  *      \n",
      "\n",
      " *         \n",
      "\n"
     ]
    }
   ],
   "source": [
    "for i in range(1,10):\n",
    "    print((' * ' * i).ljust(10, ' '), '\\n') if i<6 else print((' * ' * (10 - i)).ljust(10, ' '), '\\n')"
   ]
  },
  {
   "cell_type": "markdown",
   "id": "a0cc7395",
   "metadata": {},
   "source": [
    "#### 2. Write a Python program to reverse a word after accepting the input from the user."
   ]
  },
  {
   "cell_type": "raw",
   "id": "b4461140",
   "metadata": {},
   "source": [
    "Sample:\n",
    "\n",
    "Input word: ineuron\n",
    "Output: norueni"
   ]
  },
  {
   "cell_type": "code",
   "execution_count": 9,
   "id": "86584926",
   "metadata": {},
   "outputs": [
    {
     "name": "stdout",
     "output_type": "stream",
     "text": [
      "Input Word: ineuron\n",
      "Output:  norueni\n"
     ]
    }
   ],
   "source": [
    "print('Output: ', st:=input('Input Word: ')[::-1])"
   ]
  }
 ],
 "metadata": {
  "kernelspec": {
   "display_name": "Python 3",
   "language": "python",
   "name": "python3"
  },
  "language_info": {
   "codemirror_mode": {
    "name": "ipython",
    "version": 3
   },
   "file_extension": ".py",
   "mimetype": "text/x-python",
   "name": "python",
   "nbconvert_exporter": "python",
   "pygments_lexer": "ipython3",
   "version": "3.9.2"
  }
 },
 "nbformat": 4,
 "nbformat_minor": 5
}
