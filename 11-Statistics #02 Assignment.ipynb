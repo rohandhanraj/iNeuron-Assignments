{
 "cells": [
  {
   "cell_type": "markdown",
   "id": "38c9d101",
   "metadata": {},
   "source": [
    "## Problem Statement 1:\n",
    "In each of the following situations, state whether it is a correctly stated hypothesis testing problem and why?  \n",
    "1. H0: μ = 25, H1: μ ≠ 25\n",
    "2. H0: σ > 10, H1: σ = 10\n",
    "3. H0: x = 50, H1: x ≠ 50\n",
    "4. H0: p = 0.1, H1: p = 0.5\n",
    "5. H0: s = 30, H1: s > 30"
   ]
  },
  {
   "cell_type": "markdown",
   "id": "da9280f9",
   "metadata": {},
   "source": [
    "### Answer\n",
    "1. $H_0$ contains `=` and the contrary is seen in $H_1$. Therefore the hypothesis is stated correctly.\n",
    "2. $H_0$ contains an inequality symbol(`>`) and $H_1$ contains `=`. Therefore the hypothesis is incorrectly stated.\n",
    "3. The reason being similar to `1`, the hypothesis is correctly stated.\n",
    "4. $H_1$ contains `=`. Therefore the hypothesis is incorrectly stated.\n",
    "5. $H_0$ contains `=` and $H_1$ contains an inequality (`>`). Therefore the hypothesis is stated correctly."
   ]
  },
  {
   "cell_type": "markdown",
   "id": "459b9a7c",
   "metadata": {},
   "source": [
    "## Problem Statement 2:\n",
    "The college bookstore tells prospective students that the average cost of its textbooks is Rs. 52 with a standard deviation of Rs. 4.50. A group of smart statistics students thinks that the average cost is higher. To test the bookstore’s claim against their alternative, the students will select a random sample of size 100. Assume that the mean from their random sample is Rs. 52.80. Perform a hypothesis test at the 5% level of significance and state your decision."
   ]
  },
  {
   "cell_type": "code",
   "execution_count": 60,
   "id": "2eb09137",
   "metadata": {
    "scrolled": false
   },
   "outputs": [
    {
     "name": "stdout",
     "output_type": "stream",
     "text": [
      "Z alpha Score: 1.6448536269514722\n",
      "Z test Score: 1.7777777777777715\n",
      "P value: 0.03772017981340073\n",
      "Reject Null Hypothesis\n",
      "Average cost is higher than the bookstore's claim\n"
     ]
    }
   ],
   "source": [
    "import numpy as np\n",
    "#from statsmodels.stats.weightstats import ztest\n",
    "from scipy.stats import *\n",
    "\n",
    "\n",
    "# Population Mean is 'mu' and standard deviation is 'sd'\n",
    "mu = 52\n",
    "sd = 4.5\n",
    "# Sample mean is 'x', 'n' is sample size.\n",
    "n = 100\n",
    "x = 52.8\n",
    "# Finding Sample Standard Deviation According to Central Limit Theorem\n",
    "s = sd/(n**.5) # Standard Error\n",
    "\n",
    "#sample = s * np.random.randn(n) + x\n",
    "\n",
    "# Null Hypothesis (H0): mu = 52\n",
    "# Alternate Hypothesis (H1): mu > 52\n",
    "\n",
    "# Significance Level\n",
    "alpha = 0.05\n",
    "\n",
    "# Decision Rule: As alternative claim is greater than the average.\n",
    "# So its a Right tailed test.\n",
    "z_alpha = norm.ppf(1 - alpha)#, loc=x, scale=s)\n",
    "print(f'Z alpha Score: {z_alpha}')\n",
    "\n",
    "# Test Stats\n",
    "#z, p = ztest(sample, value=mu, alternative='larger')\n",
    "z = (x - mu) / s\n",
    "p = norm.sf(z)\n",
    "print(f'Z test Score: {z}\\nP value: {p}')\n",
    "\n",
    "# Results\n",
    "if p < alpha:\n",
    "    print(\"Reject Null Hypothesis\")\n",
    "    print(\"Average cost is higher than the bookstore's claim\")\n",
    "else:\n",
    "    print(\"Accept Null Hypothesis\")\n",
    "    print(\"Average cost that the bookstore claims is correct\")"
   ]
  },
  {
   "cell_type": "markdown",
   "id": "665ce965",
   "metadata": {},
   "source": [
    "## Problem Statement 3:\n",
    "A certain chemical pollutant in the Genesee River has been constant for several years with mean μ = 34 ppm (parts per million) and standard deviation σ = 8 ppm. A group of factory representatives whose companies discharge liquids into the river is now claiming that they have lowered the average with improved filtration devices. A group of environmentalists will test to see if this is true at the 1% level of significance. Assume that their sample of size 50 gives a mean of 32.5 ppm. Perform a hypothesis test at the 1% level of significance and state your decision."
   ]
  },
  {
   "cell_type": "code",
   "execution_count": 61,
   "id": "d0e93719",
   "metadata": {},
   "outputs": [
    {
     "name": "stdout",
     "output_type": "stream",
     "text": [
      "Z alpha Score: -2.3263478740408408\n",
      "Z test Score: -1.3258252147247767\n",
      "P value: 0.9075512005172\n",
      "Accept Null Hypothesis\n",
      "The average pollutant infusion into the river did not reduce\n"
     ]
    }
   ],
   "source": [
    "# Population Mean is 'mu' and standard deviation is 's'\n",
    "mu = 34\n",
    "sd = 8\n",
    "# Sample mean is 'x', 'n' is sample size.\n",
    "n = 50\n",
    "x = 32.5\n",
    "# Finding Sample Standard Deviation According to Central Limit Theorem\n",
    "s = sd/(n**.5) # Standard Error\n",
    "\n",
    "#sample = s * np.random.randn(n) + x\n",
    "\n",
    "# Null Hypothesis (H0): mu = 34\n",
    "# Alternate Hypothesis (H1): mu < 34\n",
    "\n",
    "# Significance Level\n",
    "alpha = 0.01\n",
    "\n",
    "# Decision Rule: The average discharge of chemical pollutant has been  lowered.\n",
    "# So its a Left tailed test.\n",
    "z_alpha = norm.ppf(alpha)\n",
    "print(f'Z alpha Score: {z_alpha}')\n",
    "\n",
    "# Test Stats\n",
    "#z, p = ztest(sample, value=x, alternative='smaller')\n",
    "z = (x - mu) / s\n",
    "p = norm.sf(z)\n",
    "print(f'Z test Score: {z}\\nP value: {p}')\n",
    "\n",
    "# Results\n",
    "if p < alpha:\n",
    "    print(\"Reject Null Hypothesis\")\n",
    "    print(\"The average pollutant infusion into the river has been reduced\")\n",
    "else:\n",
    "    print(\"Accept Null Hypothesis\")\n",
    "    print(\"The average pollutant infusion into the river did not reduce\")"
   ]
  },
  {
   "cell_type": "markdown",
   "id": "a84587bb",
   "metadata": {},
   "source": [
    "## Problem Statement 4:\n",
    "Based on population figures and other general information on the U.S. population, suppose it has been estimated that, on average, a family of four in the U.S. spends about $1135 annually on dental expenditures. Suppose further that a regional dental association wants to test to determine if this figure is accurate for their area of country. To test this, 22 families of 4 are randomly selected from the population in that area of the country and a log is kept of the family’s dental expenditure for one year. The resulting data are given below. Assuming, that dental expenditure is normally distributed in the population, use the data and an alpha of 0.5 to test the dental association’s hypothesis.  \n",
    "1008, 812, 1117, 1323, 1308, 1415, 831, 1021, 1287, 851, 930, 730, 699, 872, 913, 944, 954, 987, 1695, 995, 1003, 994"
   ]
  },
  {
   "cell_type": "code",
   "execution_count": 12,
   "id": "d5e20bd0",
   "metadata": {},
   "outputs": [
    {
     "name": "stdout",
     "output_type": "stream",
     "text": [
      "Critical Region: -0.6744897501960817, 0.6744897501960817\n",
      "t test Score: -9.325003875219066\n",
      "P value: 0.0559738319464585\n",
      "Reject Null Hypothesis\n",
      "The average dental expenses as stated is inaccurate\n"
     ]
    }
   ],
   "source": [
    "# Population Mean is 'mu'\n",
    "# 'n' is sample size.\n",
    "n = 22\n",
    "mu = 1135\n",
    "\n",
    "data = [\n",
    "    1008, 812, 1117, 1323, 1308, 1415, 831, 1021, 1287, 851,\n",
    "    930, 730, 699, 872, 913, 944, 954, 987, 1695, 995, 1003, 994\n",
    "       ]\n",
    "\n",
    "# Null Hypothesis (H0): mu = 1135\n",
    "# Alternate Hypothesis (H1): mu != 1135 ## mu > 35 or mu < 35\n",
    "\n",
    "# Significance Level\n",
    "alpha = 0.5\n",
    "\n",
    "# Decision Rule: To determine the accuracy of a figure, it is tested for lower as well as higher values.\n",
    "# So its a Two tailed test.\n",
    "z_alpha = norm.ppf(alpha/2)\n",
    "print(f'Critical Region: {z_alpha}, {-z_alpha}')\n",
    "\n",
    "# Test Stats\n",
    "t, p = ttest_1samp(data, mu)\n",
    "print(f't test Score: {z}\\nP value: {p}')\n",
    "\n",
    "# Results\n",
    "if p < alpha:\n",
    "    print(\"Reject Null Hypothesis\")\n",
    "    print(\"The average dental expenses as stated is inaccurate\")\n",
    "else:\n",
    "    print(\"Accept Null Hypothesis\")\n",
    "    print(\"The average dental expense as stated is accurate\")"
   ]
  },
  {
   "cell_type": "markdown",
   "id": "45afe405",
   "metadata": {},
   "source": [
    "## Problem Statement 5:\n",
    "In a report prepared by the Economic Research Department of a major bank the Department manager maintains that the average annual family income on Metropolis is `$ 48,432`.\n",
    "What do you conclude about the validity of the report if a random sample of 400 families shows and average income of `$ 48,574` with a standard deviation of 2000?"
   ]
  },
  {
   "cell_type": "code",
   "execution_count": null,
   "id": "19e58d8a",
   "metadata": {},
   "outputs": [],
   "source": [
    "# Population Mean is 'mu'\n",
    "# 'n' is sample size, 'x' is sample mean, 's' is sample standard deviation\n",
    "mu = 48432\n",
    "n = 400\n",
    "x = 48574\n",
    "s = 2000\n",
    "\n",
    "data = s * np.random.randn(n) + x\n",
    "\n",
    "# Null Hypothesis (H0): mu = 1135\n",
    "# Alternate Hypothesis (H1): mu != 1135 ## mu > 35 or mu < 35\n",
    "\n",
    "# Significance Level\n",
    "alpha = 0.5\n",
    "\n",
    "# Decision Rule: To determine the accuracy of a figure, it is tested for lower as well as higher values.\n",
    "# So its a Two tailed test.\n",
    "z_alpha = norm.ppf(alpha/2)\n",
    "print(f'Critical Region: {z_alpha}, {-z_alpha}')\n",
    "\n",
    "# Test Stats\n",
    "t, p = ttest_1samp(data, mu)\n",
    "print(f't test Score: {z}\\nP value: {p}')\n",
    "\n",
    "# Results\n",
    "if p < alpha:\n",
    "    print(\"Reject Null Hypothesis\")\n",
    "    print(\"The average dental expenses as stated is inaccurate\")\n",
    "else:\n",
    "    print(\"Accept Null Hypothesis\")\n",
    "    print(\"The average dental expense as stated is accurate\")"
   ]
  },
  {
   "cell_type": "markdown",
   "id": "1d734275",
   "metadata": {},
   "source": [
    "## Problem Statement 6:\n",
    "Suppose that in past years the average price per square foot for warehouses in the United States has been `$32.28`. A national real estate investor wants to determine whether that figure has changed now. The investor hires a researcher who randomly samples 19 warehouses that are for sale across the United States and finds that the mean price per square foot is `$31.67`, with a standard deviation of `$1.29`. assume that the prices of warehouse footage are normally distributed in population. If the researcher uses a 5\\% level of significance, what statistical conclusion can be reached? What are the hypotheses?"
   ]
  },
  {
   "cell_type": "markdown",
   "id": "a8b5f7fc",
   "metadata": {},
   "source": [
    "## Problem Statement 7:\n",
    "Fill in the blank spaces in the table and draw your conclusions from it. \n",
    "\n",
    "|Acceptance Region of distribution|Sample Size| $\\alpha$ | $\\beta$ at $\\mu$ = 52 | $\\beta$ at $\\mu$ = 50.5 |\n",
    "|:----------------|:---------:|:--------:|:---------------------:|----------------------:|\n",
    "|$48.5 < \\bar{x} < 51.5$|10| | | |\n",
    "|$48 < \\bar{x} < 52$|10| | | |\n",
    "|$48.81 < \\bar{x} < 51.9$|10| | | |\n",
    "|$48.42 < \\bar{x} < 51.58$|10| | | |"
   ]
  },
  {
   "cell_type": "markdown",
   "id": "041f3cba",
   "metadata": {},
   "source": [
    "## Problem Statement 8:\n",
    "Find the t-score for a sample size of 16 taken from a population with mean 10 when the sample mean is 12 and the sample standard deviation is 1.5."
   ]
  },
  {
   "cell_type": "markdown",
   "id": "e17fccd6",
   "metadata": {},
   "source": [
    "## Problem Statement 9:\n",
    "Find the t-score below which we can expect 99% of sample means will fall if samples of size 16 are taken from a normally distributed population."
   ]
  },
  {
   "cell_type": "markdown",
   "id": "ce430242",
   "metadata": {},
   "source": [
    "## Problem Statement 10:\n",
    "If a random sample of size 25 drawn from a normal population gives a mean of 60 and a standard deviation of 4, find the range of t-scores where we can expect to find the middle 95% of all sample means. Compute the probability that (−t0.05 <t<t0.10)."
   ]
  },
  {
   "cell_type": "markdown",
   "id": "aba19bd6",
   "metadata": {},
   "source": [
    "## Problem Statement 11:\n",
    "Two-tailed test for difference between two population means  \n",
    "Is there evidence to conclude that the number of people travelling from Bangalore to Chennai is different from the number of people travelling from Bangalore to Hosur in a week, given the following:\n",
    "> Population 1: Bangalore to Chennai \n",
    ">> $n_1$ = 1200  \n",
    ">> $x_1$ = 452  \n",
    ">> $s_1$ = 212\n",
    "\n",
    "> Population 2: Bangalore to Hosur \n",
    ">> $n_2$ = 800  \n",
    ">> $x_2$ = 523  \n",
    ">> $s_2$ = 185"
   ]
  },
  {
   "cell_type": "markdown",
   "id": "4ab91bea",
   "metadata": {},
   "source": [
    "## Problem Statement 12:\n",
    "Is there evidence to conclude that the number of people preferring Duracell battery is different from the number of people preferring Energizer battery, given the following:\n",
    "> Population 1: Duracell\n",
    ">> $n_1$ = 100  \n",
    ">> $x_1$ = 308  \n",
    ">> $s_1$ = 84\n",
    "\n",
    "> Population 2: Energizer\n",
    ">> $n_2$ = 100  \n",
    ">> $x_2$ = 254  \n",
    ">> $s_2$ = 67"
   ]
  },
  {
   "cell_type": "markdown",
   "id": "6acc71c2",
   "metadata": {},
   "source": [
    "## Problem Statement 13:\n",
    "Pooled estimate of the population variance  \n",
    "Does the data provide sufficient evidence to conclude that average percentage increase in the price of sugar differs when it is sold at two different prices?\n",
    "> Population 1: Price of sugar = ₹27.50\n",
    ">> $n_1$ = 14  \n",
    ">> $x_1$ = 0.317%  \n",
    ">> $s_1$ = 0.12%  \n",
    "\n",
    "> Population 2: Price of sugar = ₹20.00\n",
    ">> $n_2$ = 9  \n",
    ">> $x_1$ = 0.21%  \n",
    ">> $s_1$ = 0.11%  "
   ]
  },
  {
   "cell_type": "markdown",
   "id": "e5bf0a65",
   "metadata": {},
   "source": [
    "## Problem Statement 14:\n",
    "The manufacturers of compact disk players want to test whether a small price reduction is enough to increase sales of their product. Is there evidence that the small price reduction is enough to increase sales of compact disk players?\n",
    "> Population 1: Before reduction \n",
    ">> $n_1$ = 15  \n",
    ">> $x_1$ = ₹6598  \n",
    ">> $s_1$ = ₹844\n",
    "\n",
    "> Population 2: After reduction \n",
    ">> $n_2$ = 12  \n",
    ">> $x_2$ = ₹6870  \n",
    ">> $s_2$ = ₹669"
   ]
  },
  {
   "cell_type": "markdown",
   "id": "730897bb",
   "metadata": {},
   "source": [
    "## Problem Statement 15:\n",
    "Comparisons of two population proportions when the hypothesized difference is zero  \n",
    "Carry out a two-tailed test of the equality of banks’ share of the car loan market in 1980 and 1995.\n",
    "> Population 1: 1980\n",
    ">> $n_1$ = 1000  \n",
    ">> $x_1$ = 53  \n",
    ">> $\\hat{p}_1$ = 0.53\n",
    "\n",
    "> Population 2: 1985\n",
    ">> $n_2$ = 100  \n",
    ">> $x_2$ = 43  \n",
    ">> $\\hat{p}_2$= 0.53"
   ]
  },
  {
   "cell_type": "markdown",
   "id": "1f70f01e",
   "metadata": {},
   "source": [
    "## Problem Statement 16:\n",
    "Carry out a one-tailed test to determine whether the population proportion of traveler’s check buyers who buy at least \\$2500 in checks when sweepstakes prizes are offered as at least 10\\% higher than the proportion of such buyers when no sweepstakes are on.\n",
    "> Population 1: With sweepstakes\n",
    ">> $n_1$ = 300\n",
    ">> $x_1$ = 120\n",
    ">> $\\hat{p}_1$ = 0.4\n",
    "> Population 2: No sweepstakes\n",
    ">> $n_2$ = 700  \n",
    ">> $x_2$ = 140  \n",
    ">> $\\hat{p}_2$= 0.2"
   ]
  },
  {
   "cell_type": "markdown",
   "id": "99b67069",
   "metadata": {},
   "source": [
    "## Problem Statement 17:\n",
    "A die is thrown 132 times with the following results:\n",
    "\n",
    "|Number Turned up|Frequency|\n",
    "|:--------------:|:-------:|\n",
    "|1|16|\n",
    "|2|20|\n",
    "|3|25|\n",
    "|4|14|\n",
    "|5|29|\n",
    "|6|28|\n",
    "\n",
    "Is the die unbiased? Consider the degrees of freedom as $\\hat{p} -1$"
   ]
  },
  {
   "cell_type": "markdown",
   "id": "02b5ba58",
   "metadata": {},
   "source": [
    "## Problem Statement 18:\n",
    "In a certain town, there are about one million eligible voters. A simple random sample of 10,000 eligible voters was chosen to study the relationship between gender and participation in the last election. The results are summarized in the following 2X2 (read two by two) contingency table:\n",
    "\n",
    "||Men|Women|\n",
    "|:---|:---:|:---:|\n",
    "|Voted|2792|3591|\n",
    "|Not Voted|1486|2131|\n",
    "\n",
    "We would want to check whether being a man or a woman (columns) is independent of having voted in the last election (rows). In other words, is “gender and voting independent”?"
   ]
  },
  {
   "cell_type": "markdown",
   "id": "3b7fd415",
   "metadata": {},
   "source": [
    "## Problem Statement 19:\n",
    "A sample of 100 voters are asked which of four candidates they would vote for in an election. The number supporting each candidate is given below:\n",
    "\n",
    "|Higgins|Reardon|White|Charlton|\n",
    "|:---:|:---:|:---:|:---:|\n",
    "|41|19|24|16|\n",
    "\n",
    "Do the data suggest that all candidates are equally popular? \\[$\\chi^2 = 14.96$, with 3 df, $\\hat{p} < 0.05$ \\]."
   ]
  },
  {
   "cell_type": "markdown",
   "id": "4ec158b3",
   "metadata": {},
   "source": [
    "## Problem Statement 20:\n",
    "Children of three ages are asked to indicate their preference for three photographs of adults. Do the data suggest that there is a significant relationship between age and photograph preference? What is wrong with this study? \\[$\\chi^2 = 29.6$, with 4 df, $\\hat{p} < 0.05$ \\].\n",
    "\n",
    "|#############|Photograph|\n",
    "|:---:|:---:|\n",
    "\n",
    "| Age of Child | A  | B  | C  |\n",
    "|:--------------|:----:|:----:|:----:|\n",
    "| 5-6 years    | 18 | 22 | 20 |\n",
    "| 7-8 years    | 2  | 28 | 40 |\n",
    "| 9-10 years   | 20 | 10 | 40 |"
   ]
  },
  {
   "cell_type": "markdown",
   "id": "f791a4fb",
   "metadata": {},
   "source": [
    "## Problem Statement 21:\n",
    "\n",
    "A study of conformity using the Asch paradigm involved two conditions: one where one confederate supported the true judgement and another where no confederate gave the correct response.\n",
    "\n",
    "|             | Support | No Support |\n",
    "|:------------|:-------:|:----------:|\n",
    "| Conform     | 18      | 40         |\n",
    "| Not Conform | 32      | 10         |\n",
    "\n",
    "Is there a significant difference between the \"support\" and \"no support\" conditions in the frequency with which individuals are likely to conform?\n",
    "\\[$\\chi^2 = 19.87$, with 1 df, $\\hat{p} < 0.05$ \\]"
   ]
  },
  {
   "cell_type": "markdown",
   "id": "c7af9133",
   "metadata": {},
   "source": [
    "## Problem Statement 22:\n",
    "\n",
    "We want to test whether short people differ with respect to their leadership qualities (Genghis Khan, Adolf Hitler and Napoleon were all stature-deprived, and how many midget MP's are there?) The following table shows the frequencies with which 43 short people and 52 tall people were categorized as \"leaders\", \"followers\" or as \"unclassifiable\". Is there a relationship between height and leadership qualities?\n",
    "\\[$\\chi^2 = 10.71$, with 2 df, $\\hat{p} < 0.01$ \\]\n",
    "\n",
    "| Height       | Short | Tall |\n",
    "|:-------------|:-----:|:----:|\n",
    "| Leader       | 12    | 32   |\n",
    "| Follower     | 22    | 14   |\n",
    "| Unclassified | 9     | 6    |"
   ]
  },
  {
   "cell_type": "markdown",
   "id": "638ce562",
   "metadata": {},
   "source": [
    "## Problem Statement 23:\n",
    "\n",
    "Each respondent in the Current Population Survey of March 1993 was classified as employed, unemployed, or outside the labor force. The results for men in California age 35-44 can be cross-tabulated by marital status, as follows:\n",
    "\n",
    "|                    | Married | Widowed,<br>Divorced or<br>Separated | Never Married |\n",
    "|--------------------|:-------:|:------------------------------------:|:-------------:|\n",
    "| Employed           |   679   |                  103                 |      114      |\n",
    "| Unemployed         |    63   |                  10                  |       20      |\n",
    "| Not in Labor Force |    42   |                  18                  |       25      |\n",
    "\n",
    "Men of different marital status seem to have different distributions of labor force status. Or is this just chance variation? (you may assume the table results from a simple random sample.)"
   ]
  }
 ],
 "metadata": {
  "kernelspec": {
   "display_name": "Python 3 (ipykernel)",
   "language": "python",
   "name": "python3"
  },
  "language_info": {
   "codemirror_mode": {
    "name": "ipython",
    "version": 3
   },
   "file_extension": ".py",
   "mimetype": "text/x-python",
   "name": "python",
   "nbconvert_exporter": "python",
   "pygments_lexer": "ipython3",
   "version": "3.8.8"
  }
 },
 "nbformat": 4,
 "nbformat_minor": 5
}
