{
 "cells": [
  {
   "cell_type": "markdown",
   "id": "fc92a5ff",
   "metadata": {},
   "source": [
    "## Problem Statement 1:\n",
    "Is gender independent of education level? A random sample of 395 people were\n",
    "surveyed and each person was asked to report the highest education level they\n",
    "obtained. The data that resulted from the survey is summarized in the following table:\n",
    "\n",
    "| High   | School | Bachelors | Masters | Ph.d. | Total |\n",
    "|--------|:------:|:---------:|:-------:|:-----:|:-----:|\n",
    "| Female |   60   |     54    |    46   |   41  |  201  |\n",
    "| Male   |   40   |     44    |    53   |   57  |  194  |\n",
    "| Total  |   100  |     98    |    99   |   98  |  395  |\n",
    "\n",
    "Question: Are gender and education level dependent at 5% level of significance? In other words, given the data collected above, is there a relationship between the gender of an individual and the level of education that they have obtained?"
   ]
  },
  {
   "cell_type": "code",
   "execution_count": null,
   "id": "65e36173",
   "metadata": {},
   "outputs": [],
   "source": []
  },
  {
   "cell_type": "markdown",
   "id": "1b43dd92",
   "metadata": {},
   "source": [
    "## Problem Statement 2:\n",
    "Using the following data, perform a oneway analysis of variance using α=.05. Write up the results in APA format.\n",
    "\n",
    "| Group1 | Group2 | Group3 |\n",
    "|:------:|:------:|:------:|\n",
    "|   51   |   23   |   56   |\n",
    "|   45   |   43   |   76   |\n",
    "|   33   |   23   |   74   |\n",
    "|   45   |   43   |   87   |\n",
    "|   67   |   45   |   56   |\n",
    "\n"
   ]
  },
  {
   "cell_type": "code",
   "execution_count": null,
   "id": "c9e6b23c",
   "metadata": {},
   "outputs": [],
   "source": []
  },
  {
   "cell_type": "markdown",
   "id": "1844bdb2",
   "metadata": {},
   "source": [
    "## Problem Statement 3:\n",
    "Calculate F Test for given 10, 20, 30, 40, 50 and 5,10,15, 20, 25.  \n",
    "For 10, 20, 30, 40, 50:"
   ]
  },
  {
   "cell_type": "code",
   "execution_count": null,
   "id": "daa4ba7c",
   "metadata": {},
   "outputs": [],
   "source": []
  }
 ],
 "metadata": {
  "kernelspec": {
   "display_name": "Python 3",
   "language": "python",
   "name": "python3"
  },
  "language_info": {
   "codemirror_mode": {
    "name": "ipython",
    "version": 3
   },
   "file_extension": ".py",
   "mimetype": "text/x-python",
   "name": "python",
   "nbconvert_exporter": "python",
   "pygments_lexer": "ipython3",
   "version": "3.8.8"
  }
 },
 "nbformat": 4,
 "nbformat_minor": 5
}
